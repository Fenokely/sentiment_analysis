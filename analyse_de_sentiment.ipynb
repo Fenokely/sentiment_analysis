{
 "cells": [
  {
   "cell_type": "code",
   "execution_count": 46,
   "id": "772ecee0-ba25-4746-9884-3b3fc7e16249",
   "metadata": {
    "ExecuteTime": {
     "end_time": "2024-12-19T17:38:53.557074Z",
     "start_time": "2024-12-19T17:38:53.552961Z"
    }
   },
   "outputs": [],
   "source": [
    "import pandas as pd\n",
    "# import matplotlib.pyplot as plt\n",
    "import numpy as np\n",
    "import tensorflow as tf\n",
    "import keras\n",
    "from nltk.corpus import stopwords\n",
    "from nltk.stem.porter import PorterStemmer\n",
    "from nltk.tokenize import word_tokenize\n",
    "from nltk.stem import WordNetLemmatizer\n",
    "import re"
   ]
  },
  {
   "cell_type": "code",
   "execution_count": 47,
   "id": "2949889a-af1e-4324-8f5e-b6c0503e425e",
   "metadata": {
    "ExecuteTime": {
     "end_time": "2024-12-19T17:38:54.439659Z",
     "start_time": "2024-12-19T17:38:54.435272Z"
    }
   },
   "outputs": [
    {
     "name": "stdout",
     "output_type": "stream",
     "text": [
      "2.18.0\n",
      "3.7.0\n"
     ]
    }
   ],
   "source": [
    "print(tf.__version__)\n",
    "print(keras.__version__)"
   ]
  },
  {
   "cell_type": "markdown",
   "id": "50019385cbb4d14f",
   "metadata": {},
   "source": [
    "## Dataset"
   ]
  },
  {
   "cell_type": "code",
   "execution_count": 48,
   "id": "cf7eefcb-7bf4-4a0a-8912-37dda3b7ca9d",
   "metadata": {
    "ExecuteTime": {
     "end_time": "2024-12-19T17:38:56.071036Z",
     "start_time": "2024-12-19T17:38:56.002971Z"
    }
   },
   "outputs": [],
   "source": [
    "train = pd.read_table('train.txt', delimiter=';', header=None)\n",
    "test = pd.read_table('test.txt', delimiter=';', header=None)\n",
    "val = pd.read_table('val.txt', delimiter=';', header=None)"
   ]
  },
  {
   "cell_type": "code",
   "execution_count": 49,
   "id": "1df95db147d71735",
   "metadata": {
    "ExecuteTime": {
     "end_time": "2024-12-19T17:38:56.609659Z",
     "start_time": "2024-12-19T17:38:56.603303Z"
    }
   },
   "outputs": [],
   "source": [
    "data = pd.concat([train, val, test])"
   ]
  },
  {
   "cell_type": "code",
   "execution_count": 50,
   "id": "524bc98f4cd72d79",
   "metadata": {
    "ExecuteTime": {
     "end_time": "2024-12-19T17:38:57.282305Z",
     "start_time": "2024-12-19T17:38:57.273307Z"
    }
   },
   "outputs": [
    {
     "data": {
      "text/html": [
       "<div>\n",
       "<style scoped>\n",
       "    .dataframe tbody tr th:only-of-type {\n",
       "        vertical-align: middle;\n",
       "    }\n",
       "\n",
       "    .dataframe tbody tr th {\n",
       "        vertical-align: top;\n",
       "    }\n",
       "\n",
       "    .dataframe thead th {\n",
       "        text-align: right;\n",
       "    }\n",
       "</style>\n",
       "<table border=\"1\" class=\"dataframe\">\n",
       "  <thead>\n",
       "    <tr style=\"text-align: right;\">\n",
       "      <th></th>\n",
       "      <th>0</th>\n",
       "      <th>1</th>\n",
       "    </tr>\n",
       "  </thead>\n",
       "  <tbody>\n",
       "    <tr>\n",
       "      <th>0</th>\n",
       "      <td>i didnt feel humiliated</td>\n",
       "      <td>sadness</td>\n",
       "    </tr>\n",
       "    <tr>\n",
       "      <th>1</th>\n",
       "      <td>i can go from feeling so hopeless to so damned...</td>\n",
       "      <td>sadness</td>\n",
       "    </tr>\n",
       "    <tr>\n",
       "      <th>2</th>\n",
       "      <td>im grabbing a minute to post i feel greedy wrong</td>\n",
       "      <td>anger</td>\n",
       "    </tr>\n",
       "    <tr>\n",
       "      <th>3</th>\n",
       "      <td>i am ever feeling nostalgic about the fireplac...</td>\n",
       "      <td>love</td>\n",
       "    </tr>\n",
       "    <tr>\n",
       "      <th>4</th>\n",
       "      <td>i am feeling grouchy</td>\n",
       "      <td>anger</td>\n",
       "    </tr>\n",
       "  </tbody>\n",
       "</table>\n",
       "</div>"
      ],
      "text/plain": [
       "                                                   0        1\n",
       "0                            i didnt feel humiliated  sadness\n",
       "1  i can go from feeling so hopeless to so damned...  sadness\n",
       "2   im grabbing a minute to post i feel greedy wrong    anger\n",
       "3  i am ever feeling nostalgic about the fireplac...     love\n",
       "4                               i am feeling grouchy    anger"
      ]
     },
     "execution_count": 50,
     "metadata": {},
     "output_type": "execute_result"
    }
   ],
   "source": [
    "data.head()"
   ]
  },
  {
   "cell_type": "code",
   "execution_count": 51,
   "id": "9b19a7ec064567ef",
   "metadata": {
    "ExecuteTime": {
     "end_time": "2024-12-19T17:38:57.822840Z",
     "start_time": "2024-12-19T17:38:57.818822Z"
    }
   },
   "outputs": [],
   "source": [
    "data.columns=[\"text\", \"label\"]"
   ]
  },
  {
   "cell_type": "code",
   "execution_count": 52,
   "id": "a512acd378271c03",
   "metadata": {
    "ExecuteTime": {
     "end_time": "2024-12-19T17:38:58.462249Z",
     "start_time": "2024-12-19T17:38:58.452246Z"
    }
   },
   "outputs": [
    {
     "data": {
      "text/html": [
       "<div>\n",
       "<style scoped>\n",
       "    .dataframe tbody tr th:only-of-type {\n",
       "        vertical-align: middle;\n",
       "    }\n",
       "\n",
       "    .dataframe tbody tr th {\n",
       "        vertical-align: top;\n",
       "    }\n",
       "\n",
       "    .dataframe thead th {\n",
       "        text-align: right;\n",
       "    }\n",
       "</style>\n",
       "<table border=\"1\" class=\"dataframe\">\n",
       "  <thead>\n",
       "    <tr style=\"text-align: right;\">\n",
       "      <th></th>\n",
       "      <th>text</th>\n",
       "      <th>label</th>\n",
       "    </tr>\n",
       "  </thead>\n",
       "  <tbody>\n",
       "    <tr>\n",
       "      <th>0</th>\n",
       "      <td>i didnt feel humiliated</td>\n",
       "      <td>sadness</td>\n",
       "    </tr>\n",
       "    <tr>\n",
       "      <th>1</th>\n",
       "      <td>i can go from feeling so hopeless to so damned...</td>\n",
       "      <td>sadness</td>\n",
       "    </tr>\n",
       "    <tr>\n",
       "      <th>2</th>\n",
       "      <td>im grabbing a minute to post i feel greedy wrong</td>\n",
       "      <td>anger</td>\n",
       "    </tr>\n",
       "    <tr>\n",
       "      <th>3</th>\n",
       "      <td>i am ever feeling nostalgic about the fireplac...</td>\n",
       "      <td>love</td>\n",
       "    </tr>\n",
       "    <tr>\n",
       "      <th>4</th>\n",
       "      <td>i am feeling grouchy</td>\n",
       "      <td>anger</td>\n",
       "    </tr>\n",
       "  </tbody>\n",
       "</table>\n",
       "</div>"
      ],
      "text/plain": [
       "                                                text    label\n",
       "0                            i didnt feel humiliated  sadness\n",
       "1  i can go from feeling so hopeless to so damned...  sadness\n",
       "2   im grabbing a minute to post i feel greedy wrong    anger\n",
       "3  i am ever feeling nostalgic about the fireplac...     love\n",
       "4                               i am feeling grouchy    anger"
      ]
     },
     "execution_count": 52,
     "metadata": {},
     "output_type": "execute_result"
    }
   ],
   "source": [
    "data.head()"
   ]
  },
  {
   "cell_type": "code",
   "execution_count": 53,
   "id": "d32339a118d9f54e",
   "metadata": {
    "ExecuteTime": {
     "end_time": "2024-12-19T17:38:59.263305Z",
     "start_time": "2024-12-19T17:38:59.256304Z"
    }
   },
   "outputs": [
    {
     "data": {
      "text/plain": [
       "array(['sadness', 'anger', 'love', 'surprise', 'fear', 'joy'],\n",
       "      dtype=object)"
      ]
     },
     "execution_count": 53,
     "metadata": {},
     "output_type": "execute_result"
    }
   ],
   "source": [
    "data.label.unique()"
   ]
  },
  {
   "cell_type": "code",
   "execution_count": 54,
   "id": "2b3e67e3ae550f72",
   "metadata": {
    "ExecuteTime": {
     "end_time": "2024-12-19T17:39:00.252955Z",
     "start_time": "2024-12-19T17:39:00.221822Z"
    }
   },
   "outputs": [
    {
     "data": {
      "text/html": [
       "<div>\n",
       "<style scoped>\n",
       "    .dataframe tbody tr th:only-of-type {\n",
       "        vertical-align: middle;\n",
       "    }\n",
       "\n",
       "    .dataframe tbody tr th {\n",
       "        vertical-align: top;\n",
       "    }\n",
       "\n",
       "    .dataframe thead th {\n",
       "        text-align: right;\n",
       "    }\n",
       "</style>\n",
       "<table border=\"1\" class=\"dataframe\">\n",
       "  <thead>\n",
       "    <tr style=\"text-align: right;\">\n",
       "      <th></th>\n",
       "      <th>text</th>\n",
       "      <th>label</th>\n",
       "    </tr>\n",
       "  </thead>\n",
       "  <tbody>\n",
       "    <tr>\n",
       "      <th>count</th>\n",
       "      <td>20000</td>\n",
       "      <td>20000</td>\n",
       "    </tr>\n",
       "    <tr>\n",
       "      <th>unique</th>\n",
       "      <td>19948</td>\n",
       "      <td>6</td>\n",
       "    </tr>\n",
       "    <tr>\n",
       "      <th>top</th>\n",
       "      <td>i have chose for myself that makes me feel ama...</td>\n",
       "      <td>joy</td>\n",
       "    </tr>\n",
       "    <tr>\n",
       "      <th>freq</th>\n",
       "      <td>2</td>\n",
       "      <td>6761</td>\n",
       "    </tr>\n",
       "  </tbody>\n",
       "</table>\n",
       "</div>"
      ],
      "text/plain": [
       "                                                     text  label\n",
       "count                                               20000  20000\n",
       "unique                                              19948      6\n",
       "top     i have chose for myself that makes me feel ama...    joy\n",
       "freq                                                    2   6761"
      ]
     },
     "execution_count": 54,
     "metadata": {},
     "output_type": "execute_result"
    }
   ],
   "source": [
    "data.describe()"
   ]
  },
  {
   "cell_type": "code",
   "execution_count": 55,
   "id": "7abe1dcf7f2559ec",
   "metadata": {
    "ExecuteTime": {
     "end_time": "2024-12-19T17:39:00.999906Z",
     "start_time": "2024-12-19T17:39:00.989155Z"
    }
   },
   "outputs": [
    {
     "name": "stdout",
     "output_type": "stream",
     "text": [
      "<class 'pandas.core.frame.DataFrame'>\n",
      "Index: 20000 entries, 0 to 1999\n",
      "Data columns (total 2 columns):\n",
      " #   Column  Non-Null Count  Dtype \n",
      "---  ------  --------------  ----- \n",
      " 0   text    20000 non-null  object\n",
      " 1   label   20000 non-null  object\n",
      "dtypes: object(2)\n",
      "memory usage: 468.8+ KB\n"
     ]
    }
   ],
   "source": [
    "data.info()"
   ]
  },
  {
   "cell_type": "code",
   "execution_count": 56,
   "id": "6528cf965bc24383",
   "metadata": {
    "ExecuteTime": {
     "end_time": "2024-12-19T17:39:01.927700Z",
     "start_time": "2024-12-19T17:39:01.918169Z"
    }
   },
   "outputs": [
    {
     "data": {
      "text/plain": [
       "np.int64(0)"
      ]
     },
     "execution_count": 56,
     "metadata": {},
     "output_type": "execute_result"
    }
   ],
   "source": [
    "data.isna().any(axis=1).sum()"
   ]
  },
  {
   "cell_type": "code",
   "execution_count": 57,
   "id": "af7fdd6ab3699964",
   "metadata": {
    "ExecuteTime": {
     "end_time": "2024-12-19T17:39:02.605315Z",
     "start_time": "2024-12-19T17:39:02.590905Z"
    }
   },
   "outputs": [],
   "source": [
    "data.drop_duplicates(inplace=True)"
   ]
  },
  {
   "cell_type": "code",
   "execution_count": 58,
   "id": "cdb5f0e61ea53c98",
   "metadata": {
    "ExecuteTime": {
     "end_time": "2024-12-19T17:39:03.171528Z",
     "start_time": "2024-12-19T17:39:03.164104Z"
    }
   },
   "outputs": [
    {
     "data": {
      "text/plain": [
       "0                              i didnt feel humiliated\n",
       "0    im feeling quite sad and sorry for myself but ...\n",
       "0    im feeling rather rotten so im not very ambiti...\n",
       "Name: text, dtype: object"
      ]
     },
     "execution_count": 58,
     "metadata": {},
     "output_type": "execute_result"
    }
   ],
   "source": [
    "data.text[0]"
   ]
  },
  {
   "cell_type": "code",
   "execution_count": 59,
   "id": "360d9b6a1807b150",
   "metadata": {
    "ExecuteTime": {
     "end_time": "2024-12-19T17:39:03.586475Z",
     "start_time": "2024-12-19T17:39:03.582476Z"
    }
   },
   "outputs": [],
   "source": [
    "stemmer = PorterStemmer()"
   ]
  },
  {
   "cell_type": "code",
   "execution_count": 60,
   "id": "ec2d910e8dd0c99e",
   "metadata": {
    "ExecuteTime": {
     "end_time": "2024-12-19T17:39:04.149373Z",
     "start_time": "2024-12-19T17:39:04.145301Z"
    }
   },
   "outputs": [],
   "source": [
    "def preprocess(line):\n",
    "    # Enlever les caractères spéciaux et les chiffres\n",
    "    line = re.sub('[^a-zA-Z]', ' ', line)\n",
    "    \n",
    "    # Convertir en miniscule\n",
    "    line = line.lower()\n",
    "    \n",
    "    # Tokenisation\n",
    "    tokenized_line = word_tokenize(line, language='english')\n",
    "    \n",
    "    data = [stemmer.stem(word) for word in tokenized_line if not word in stopwords.words('english')]\n",
    "    return \" \".join(data)"
   ]
  },
  {
   "cell_type": "code",
   "execution_count": 61,
   "id": "e12598ddeb61dfda",
   "metadata": {
    "ExecuteTime": {
     "end_time": "2024-12-19T17:40:30.996835Z",
     "start_time": "2024-12-19T17:39:05.433722Z"
    }
   },
   "outputs": [],
   "source": [
    "data.text=data['text'].apply(lambda x: preprocess(x))"
   ]
  },
  {
   "cell_type": "code",
   "execution_count": 62,
   "id": "854685036877bbc5",
   "metadata": {
    "ExecuteTime": {
     "end_time": "2024-12-19T17:40:31.005002Z",
     "start_time": "2024-12-19T17:40:30.997848Z"
    }
   },
   "outputs": [
    {
     "data": {
      "text/html": [
       "<div>\n",
       "<style scoped>\n",
       "    .dataframe tbody tr th:only-of-type {\n",
       "        vertical-align: middle;\n",
       "    }\n",
       "\n",
       "    .dataframe tbody tr th {\n",
       "        vertical-align: top;\n",
       "    }\n",
       "\n",
       "    .dataframe thead th {\n",
       "        text-align: right;\n",
       "    }\n",
       "</style>\n",
       "<table border=\"1\" class=\"dataframe\">\n",
       "  <thead>\n",
       "    <tr style=\"text-align: right;\">\n",
       "      <th></th>\n",
       "      <th>text</th>\n",
       "      <th>label</th>\n",
       "    </tr>\n",
       "  </thead>\n",
       "  <tbody>\n",
       "    <tr>\n",
       "      <th>0</th>\n",
       "      <td>didnt feel humili</td>\n",
       "      <td>sadness</td>\n",
       "    </tr>\n",
       "    <tr>\n",
       "      <th>1</th>\n",
       "      <td>go feel hopeless damn hope around someon care ...</td>\n",
       "      <td>sadness</td>\n",
       "    </tr>\n",
       "    <tr>\n",
       "      <th>2</th>\n",
       "      <td>im grab minut post feel greedi wrong</td>\n",
       "      <td>anger</td>\n",
       "    </tr>\n",
       "    <tr>\n",
       "      <th>3</th>\n",
       "      <td>ever feel nostalg fireplac know still properti</td>\n",
       "      <td>love</td>\n",
       "    </tr>\n",
       "  </tbody>\n",
       "</table>\n",
       "</div>"
      ],
      "text/plain": [
       "                                                text    label\n",
       "0                                  didnt feel humili  sadness\n",
       "1  go feel hopeless damn hope around someon care ...  sadness\n",
       "2               im grab minut post feel greedi wrong    anger\n",
       "3     ever feel nostalg fireplac know still properti     love"
      ]
     },
     "execution_count": 62,
     "metadata": {},
     "output_type": "execute_result"
    }
   ],
   "source": [
    "data.head(4)"
   ]
  },
  {
   "cell_type": "code",
   "execution_count": 63,
   "id": "1c077c9114598515",
   "metadata": {
    "ExecuteTime": {
     "end_time": "2024-12-19T17:40:31.010011Z",
     "start_time": "2024-12-19T17:40:31.006012Z"
    }
   },
   "outputs": [],
   "source": [
    "lemmatizer = WordNetLemmatizer()"
   ]
  },
  {
   "cell_type": "code",
   "execution_count": 64,
   "id": "237e62b41e9f0563",
   "metadata": {
    "ExecuteTime": {
     "end_time": "2024-12-19T17:40:31.017295Z",
     "start_time": "2024-12-19T17:40:31.012048Z"
    }
   },
   "outputs": [],
   "source": [
    "def preprocess2(line):\n",
    "    # Enlever les caractères spéciaux et les chiffres\n",
    "    line = re.sub('[^a-zA-Z]', ' ', line)\n",
    "    \n",
    "    # Convertir en miniscule\n",
    "    line = line.lower()\n",
    "    \n",
    "    # Tokenisation\n",
    "    tokenized_line = word_tokenize(line, language='english')\n",
    "    \n",
    "    # Lemmatisation\n",
    "    data = [lemmatizer.lemmatize(word) for word in tokenized_line if not word in stopwords.words('english')]\n",
    "    return \" \".join(data)"
   ]
  },
  {
   "cell_type": "code",
   "execution_count": 64,
   "id": "106a0efeafb82b50",
   "metadata": {
    "ExecuteTime": {
     "end_time": "2024-12-19T17:40:31.021273Z",
     "start_time": "2024-12-19T17:40:31.018304Z"
    }
   },
   "outputs": [],
   "source": []
  },
  {
   "cell_type": "markdown",
   "id": "7a33a98b58f51565",
   "metadata": {},
   "source": [
    "### Algorithme de classification"
   ]
  },
  {
   "cell_type": "code",
   "execution_count": 65,
   "id": "aee7cfcf88782928",
   "metadata": {
    "ExecuteTime": {
     "end_time": "2024-12-19T17:40:31.026283Z",
     "start_time": "2024-12-19T17:40:31.022284Z"
    }
   },
   "outputs": [],
   "source": [
    "from sklearn import preprocessing"
   ]
  },
  {
   "cell_type": "code",
   "execution_count": 66,
   "id": "755b84da36a3861b",
   "metadata": {
    "ExecuteTime": {
     "end_time": "2024-12-19T17:40:31.038175Z",
     "start_time": "2024-12-19T17:40:31.028304Z"
    }
   },
   "outputs": [],
   "source": [
    "label_encoder = preprocessing.LabelEncoder()\n",
    "data['enco_lable'] = label_encoder.fit_transform(data['label'])"
   ]
  },
  {
   "cell_type": "code",
   "execution_count": 67,
   "id": "24b2112564bb37bf",
   "metadata": {
    "ExecuteTime": {
     "end_time": "2024-12-19T17:40:31.051647Z",
     "start_time": "2024-12-19T17:40:31.039181Z"
    }
   },
   "outputs": [
    {
     "data": {
      "text/html": [
       "<div>\n",
       "<style scoped>\n",
       "    .dataframe tbody tr th:only-of-type {\n",
       "        vertical-align: middle;\n",
       "    }\n",
       "\n",
       "    .dataframe tbody tr th {\n",
       "        vertical-align: top;\n",
       "    }\n",
       "\n",
       "    .dataframe thead th {\n",
       "        text-align: right;\n",
       "    }\n",
       "</style>\n",
       "<table border=\"1\" class=\"dataframe\">\n",
       "  <thead>\n",
       "    <tr style=\"text-align: right;\">\n",
       "      <th></th>\n",
       "      <th>text</th>\n",
       "      <th>label</th>\n",
       "      <th>enco_lable</th>\n",
       "    </tr>\n",
       "  </thead>\n",
       "  <tbody>\n",
       "    <tr>\n",
       "      <th>0</th>\n",
       "      <td>didnt feel humili</td>\n",
       "      <td>sadness</td>\n",
       "      <td>4</td>\n",
       "    </tr>\n",
       "    <tr>\n",
       "      <th>1</th>\n",
       "      <td>go feel hopeless damn hope around someon care ...</td>\n",
       "      <td>sadness</td>\n",
       "      <td>4</td>\n",
       "    </tr>\n",
       "    <tr>\n",
       "      <th>2</th>\n",
       "      <td>im grab minut post feel greedi wrong</td>\n",
       "      <td>anger</td>\n",
       "      <td>0</td>\n",
       "    </tr>\n",
       "    <tr>\n",
       "      <th>3</th>\n",
       "      <td>ever feel nostalg fireplac know still properti</td>\n",
       "      <td>love</td>\n",
       "      <td>3</td>\n",
       "    </tr>\n",
       "    <tr>\n",
       "      <th>4</th>\n",
       "      <td>feel grouchi</td>\n",
       "      <td>anger</td>\n",
       "      <td>0</td>\n",
       "    </tr>\n",
       "    <tr>\n",
       "      <th>5</th>\n",
       "      <td>ive feel littl burden late wasnt sure</td>\n",
       "      <td>sadness</td>\n",
       "      <td>4</td>\n",
       "    </tr>\n",
       "    <tr>\n",
       "      <th>6</th>\n",
       "      <td>ive take milligram time recommend amount ive f...</td>\n",
       "      <td>surprise</td>\n",
       "      <td>5</td>\n",
       "    </tr>\n",
       "    <tr>\n",
       "      <th>7</th>\n",
       "      <td>feel confus life teenag jade year old man</td>\n",
       "      <td>fear</td>\n",
       "      <td>1</td>\n",
       "    </tr>\n",
       "    <tr>\n",
       "      <th>8</th>\n",
       "      <td>petrona year feel petrona perform well made hu...</td>\n",
       "      <td>joy</td>\n",
       "      <td>2</td>\n",
       "    </tr>\n",
       "    <tr>\n",
       "      <th>9</th>\n",
       "      <td>feel romant</td>\n",
       "      <td>love</td>\n",
       "      <td>3</td>\n",
       "    </tr>\n",
       "    <tr>\n",
       "      <th>10</th>\n",
       "      <td>feel like make suffer see mean someth</td>\n",
       "      <td>sadness</td>\n",
       "      <td>4</td>\n",
       "    </tr>\n",
       "    <tr>\n",
       "      <th>11</th>\n",
       "      <td>feel run divin experi expect type spiritu encount</td>\n",
       "      <td>joy</td>\n",
       "      <td>2</td>\n",
       "    </tr>\n",
       "    <tr>\n",
       "      <th>12</th>\n",
       "      <td>think easiest time year feel dissatisfi</td>\n",
       "      <td>anger</td>\n",
       "      <td>0</td>\n",
       "    </tr>\n",
       "    <tr>\n",
       "      <th>13</th>\n",
       "      <td>feel low energi thirsti</td>\n",
       "      <td>sadness</td>\n",
       "      <td>4</td>\n",
       "    </tr>\n",
       "    <tr>\n",
       "      <th>14</th>\n",
       "      <td>immens sympathi gener point possibl proto writ...</td>\n",
       "      <td>joy</td>\n",
       "      <td>2</td>\n",
       "    </tr>\n",
       "    <tr>\n",
       "      <th>15</th>\n",
       "      <td>feel reassur anxieti side</td>\n",
       "      <td>joy</td>\n",
       "      <td>2</td>\n",
       "    </tr>\n",
       "    <tr>\n",
       "      <th>16</th>\n",
       "      <td>didnt realli feel embarrass</td>\n",
       "      <td>sadness</td>\n",
       "      <td>4</td>\n",
       "    </tr>\n",
       "    <tr>\n",
       "      <th>17</th>\n",
       "      <td>feel pretti pathet time</td>\n",
       "      <td>sadness</td>\n",
       "      <td>4</td>\n",
       "    </tr>\n",
       "    <tr>\n",
       "      <th>18</th>\n",
       "      <td>start feel sentiment doll child began collect ...</td>\n",
       "      <td>sadness</td>\n",
       "      <td>4</td>\n",
       "    </tr>\n",
       "    <tr>\n",
       "      <th>19</th>\n",
       "      <td>feel compromis skeptic valu everi unit work put</td>\n",
       "      <td>fear</td>\n",
       "      <td>1</td>\n",
       "    </tr>\n",
       "    <tr>\n",
       "      <th>20</th>\n",
       "      <td>feel irrit reject without anyon anyth say anyth</td>\n",
       "      <td>anger</td>\n",
       "      <td>0</td>\n",
       "    </tr>\n",
       "    <tr>\n",
       "      <th>21</th>\n",
       "      <td>feel complet overwhelm two strategi help feel ...</td>\n",
       "      <td>fear</td>\n",
       "      <td>1</td>\n",
       "    </tr>\n",
       "    <tr>\n",
       "      <th>22</th>\n",
       "      <td>feel amus delight</td>\n",
       "      <td>joy</td>\n",
       "      <td>2</td>\n",
       "    </tr>\n",
       "    <tr>\n",
       "      <th>23</th>\n",
       "      <td>abl help chai lifelin support encourag great f...</td>\n",
       "      <td>joy</td>\n",
       "      <td>2</td>\n",
       "    </tr>\n",
       "    <tr>\n",
       "      <th>24</th>\n",
       "      <td>alreadi feel like fuck though dont usual eat morn</td>\n",
       "      <td>anger</td>\n",
       "      <td>0</td>\n",
       "    </tr>\n",
       "    <tr>\n",
       "      <th>25</th>\n",
       "      <td>still love wish best longer toler effect bm li...</td>\n",
       "      <td>sadness</td>\n",
       "      <td>4</td>\n",
       "    </tr>\n",
       "    <tr>\n",
       "      <th>26</th>\n",
       "      <td>feel inhibit someon els kitchen like im paint ...</td>\n",
       "      <td>sadness</td>\n",
       "      <td>4</td>\n",
       "    </tr>\n",
       "    <tr>\n",
       "      <th>27</th>\n",
       "      <td>becom overwhelm feel defeat</td>\n",
       "      <td>sadness</td>\n",
       "      <td>4</td>\n",
       "    </tr>\n",
       "    <tr>\n",
       "      <th>28</th>\n",
       "      <td>feel kinda appal feel like need explain wide l...</td>\n",
       "      <td>anger</td>\n",
       "      <td>0</td>\n",
       "    </tr>\n",
       "    <tr>\n",
       "      <th>29</th>\n",
       "      <td>feel superior dead chicken griev child</td>\n",
       "      <td>joy</td>\n",
       "      <td>2</td>\n",
       "    </tr>\n",
       "    <tr>\n",
       "      <th>30</th>\n",
       "      <td>get giddi feel eleg perfectli fit pencil skirt</td>\n",
       "      <td>joy</td>\n",
       "      <td>2</td>\n",
       "    </tr>\n",
       "    <tr>\n",
       "      <th>31</th>\n",
       "      <td>rememb feel acut distress day</td>\n",
       "      <td>fear</td>\n",
       "      <td>1</td>\n",
       "    </tr>\n",
       "    <tr>\n",
       "      <th>32</th>\n",
       "      <td>seen heard read past coupl day left feel impre...</td>\n",
       "      <td>surprise</td>\n",
       "      <td>5</td>\n",
       "    </tr>\n",
       "    <tr>\n",
       "      <th>33</th>\n",
       "      <td>climb hill feel frustrat id pretti much pace e...</td>\n",
       "      <td>anger</td>\n",
       "      <td>0</td>\n",
       "    </tr>\n",
       "    <tr>\n",
       "      <th>34</th>\n",
       "      <td>imagin real life scenario would emot connect e...</td>\n",
       "      <td>joy</td>\n",
       "      <td>2</td>\n",
       "    </tr>\n",
       "    <tr>\n",
       "      <th>35</th>\n",
       "      <td>sure would make feel content anyth</td>\n",
       "      <td>joy</td>\n",
       "      <td>2</td>\n",
       "    </tr>\n",
       "    <tr>\n",
       "      <th>36</th>\n",
       "      <td>feel need creativ</td>\n",
       "      <td>joy</td>\n",
       "      <td>2</td>\n",
       "    </tr>\n",
       "    <tr>\n",
       "      <th>37</th>\n",
       "      <td>howev want know someth someon caus feel less s...</td>\n",
       "      <td>joy</td>\n",
       "      <td>2</td>\n",
       "    </tr>\n",
       "    <tr>\n",
       "      <th>38</th>\n",
       "      <td>feel bit rude write elderli gentleman ask gift...</td>\n",
       "      <td>anger</td>\n",
       "      <td>0</td>\n",
       "    </tr>\n",
       "    <tr>\n",
       "      <th>39</th>\n",
       "      <td>need need someon need protect feel safe small ...</td>\n",
       "      <td>joy</td>\n",
       "      <td>2</td>\n",
       "    </tr>\n",
       "    <tr>\n",
       "      <th>40</th>\n",
       "      <td>plan share everyday life stori travel adventur...</td>\n",
       "      <td>joy</td>\n",
       "      <td>2</td>\n",
       "    </tr>\n",
       "    <tr>\n",
       "      <th>41</th>\n",
       "      <td>alreadi christma tree got two feel festiv sure...</td>\n",
       "      <td>joy</td>\n",
       "      <td>2</td>\n",
       "    </tr>\n",
       "    <tr>\n",
       "      <th>42</th>\n",
       "      <td>ive worn littl conceal day im feel brave dont ...</td>\n",
       "      <td>joy</td>\n",
       "      <td>2</td>\n",
       "    </tr>\n",
       "    <tr>\n",
       "      <th>43</th>\n",
       "      <td>feel strongli passion jerk decid poke make fun us</td>\n",
       "      <td>joy</td>\n",
       "      <td>2</td>\n",
       "    </tr>\n",
       "    <tr>\n",
       "      <th>44</th>\n",
       "      <td>feel discourag alreadi rob peter pay paul get ...</td>\n",
       "      <td>sadness</td>\n",
       "      <td>4</td>\n",
       "    </tr>\n",
       "    <tr>\n",
       "      <th>45</th>\n",
       "      <td>feel listless need new thing someth differ</td>\n",
       "      <td>sadness</td>\n",
       "      <td>4</td>\n",
       "    </tr>\n",
       "    <tr>\n",
       "      <th>46</th>\n",
       "      <td>lost special mind worri still sane want feel f...</td>\n",
       "      <td>joy</td>\n",
       "      <td>2</td>\n",
       "    </tr>\n",
       "    <tr>\n",
       "      <th>47</th>\n",
       "      <td>let go sad feel want accept first home mine</td>\n",
       "      <td>love</td>\n",
       "      <td>3</td>\n",
       "    </tr>\n",
       "    <tr>\n",
       "      <th>48</th>\n",
       "      <td>boat trip denmark</td>\n",
       "      <td>joy</td>\n",
       "      <td>2</td>\n",
       "    </tr>\n",
       "    <tr>\n",
       "      <th>49</th>\n",
       "      <td>stop feel cold began feel hot</td>\n",
       "      <td>anger</td>\n",
       "      <td>0</td>\n",
       "    </tr>\n",
       "  </tbody>\n",
       "</table>\n",
       "</div>"
      ],
      "text/plain": [
       "                                                 text     label  enco_lable\n",
       "0                                   didnt feel humili   sadness           4\n",
       "1   go feel hopeless damn hope around someon care ...   sadness           4\n",
       "2                im grab minut post feel greedi wrong     anger           0\n",
       "3      ever feel nostalg fireplac know still properti      love           3\n",
       "4                                        feel grouchi     anger           0\n",
       "5               ive feel littl burden late wasnt sure   sadness           4\n",
       "6   ive take milligram time recommend amount ive f...  surprise           5\n",
       "7           feel confus life teenag jade year old man      fear           1\n",
       "8   petrona year feel petrona perform well made hu...       joy           2\n",
       "9                                         feel romant      love           3\n",
       "10              feel like make suffer see mean someth   sadness           4\n",
       "11  feel run divin experi expect type spiritu encount       joy           2\n",
       "12            think easiest time year feel dissatisfi     anger           0\n",
       "13                            feel low energi thirsti   sadness           4\n",
       "14  immens sympathi gener point possibl proto writ...       joy           2\n",
       "15                          feel reassur anxieti side       joy           2\n",
       "16                        didnt realli feel embarrass   sadness           4\n",
       "17                            feel pretti pathet time   sadness           4\n",
       "18  start feel sentiment doll child began collect ...   sadness           4\n",
       "19    feel compromis skeptic valu everi unit work put      fear           1\n",
       "20    feel irrit reject without anyon anyth say anyth     anger           0\n",
       "21  feel complet overwhelm two strategi help feel ...      fear           1\n",
       "22                                  feel amus delight       joy           2\n",
       "23  abl help chai lifelin support encourag great f...       joy           2\n",
       "24  alreadi feel like fuck though dont usual eat morn     anger           0\n",
       "25  still love wish best longer toler effect bm li...   sadness           4\n",
       "26  feel inhibit someon els kitchen like im paint ...   sadness           4\n",
       "27                        becom overwhelm feel defeat   sadness           4\n",
       "28  feel kinda appal feel like need explain wide l...     anger           0\n",
       "29             feel superior dead chicken griev child       joy           2\n",
       "30     get giddi feel eleg perfectli fit pencil skirt       joy           2\n",
       "31                      rememb feel acut distress day      fear           1\n",
       "32  seen heard read past coupl day left feel impre...  surprise           5\n",
       "33  climb hill feel frustrat id pretti much pace e...     anger           0\n",
       "34  imagin real life scenario would emot connect e...       joy           2\n",
       "35                 sure would make feel content anyth       joy           2\n",
       "36                                  feel need creativ       joy           2\n",
       "37  howev want know someth someon caus feel less s...       joy           2\n",
       "38  feel bit rude write elderli gentleman ask gift...     anger           0\n",
       "39  need need someon need protect feel safe small ...       joy           2\n",
       "40  plan share everyday life stori travel adventur...       joy           2\n",
       "41  alreadi christma tree got two feel festiv sure...       joy           2\n",
       "42  ive worn littl conceal day im feel brave dont ...       joy           2\n",
       "43  feel strongli passion jerk decid poke make fun us       joy           2\n",
       "44  feel discourag alreadi rob peter pay paul get ...   sadness           4\n",
       "45         feel listless need new thing someth differ   sadness           4\n",
       "46  lost special mind worri still sane want feel f...       joy           2\n",
       "47        let go sad feel want accept first home mine      love           3\n",
       "48                                  boat trip denmark       joy           2\n",
       "49                      stop feel cold began feel hot     anger           0"
      ]
     },
     "execution_count": 67,
     "metadata": {},
     "output_type": "execute_result"
    }
   ],
   "source": [
    "data.head(50)"
   ]
  },
  {
   "cell_type": "markdown",
   "id": "a5913c1ba7439789",
   "metadata": {},
   "source": [
    "### Create corpus"
   ]
  },
  {
   "cell_type": "code",
   "execution_count": 68,
   "id": "62a02f53ee011a36",
   "metadata": {
    "ExecuteTime": {
     "end_time": "2024-12-19T17:40:31.056728Z",
     "start_time": "2024-12-19T17:40:31.052658Z"
    }
   },
   "outputs": [],
   "source": [
    "from sklearn.feature_extraction.text import CountVectorizer"
   ]
  },
  {
   "cell_type": "code",
   "execution_count": 69,
   "id": "e79122d37d6baf0a",
   "metadata": {
    "ExecuteTime": {
     "end_time": "2024-12-19T17:40:31.446014Z",
     "start_time": "2024-12-19T17:40:31.060735Z"
    }
   },
   "outputs": [],
   "source": [
    "vectorizer = CountVectorizer(max_features=5000)\n",
    "data_vector = vectorizer.fit_transform(data['text']).toarray()"
   ]
  },
  {
   "cell_type": "code",
   "execution_count": 70,
   "id": "b9c593102ef0ea23",
   "metadata": {
    "ExecuteTime": {
     "end_time": "2024-12-19T17:40:31.453714Z",
     "start_time": "2024-12-19T17:40:31.448528Z"
    }
   },
   "outputs": [
    {
     "data": {
      "text/plain": [
       "array([0, 0, 0, ..., 0, 0, 0])"
      ]
     },
     "execution_count": 70,
     "metadata": {},
     "output_type": "execute_result"
    }
   ],
   "source": [
    "data_vector[0]"
   ]
  },
  {
   "cell_type": "code",
   "execution_count": 71,
   "id": "8f1791c80a00e100",
   "metadata": {
    "ExecuteTime": {
     "end_time": "2024-12-19T17:40:32.227590Z",
     "start_time": "2024-12-19T17:40:31.454720Z"
    }
   },
   "outputs": [],
   "source": [
    "from sklearn.model_selection import train_test_split\n",
    "X_train, X_test, Y_train, Y_test = train_test_split(data_vector, data['enco_lable'], test_size=0.2, random_state=42)"
   ]
  },
  {
   "cell_type": "code",
   "execution_count": 72,
   "id": "bba8666bf54b45df",
   "metadata": {
    "ExecuteTime": {
     "end_time": "2024-12-19T17:40:32.234312Z",
     "start_time": "2024-12-19T17:40:32.229019Z"
    }
   },
   "outputs": [
    {
     "data": {
      "text/plain": [
       "(15999, 5000)"
      ]
     },
     "execution_count": 72,
     "metadata": {},
     "output_type": "execute_result"
    }
   ],
   "source": [
    "X_train.shape"
   ]
  },
  {
   "cell_type": "markdown",
   "id": "6fae8fc29ada70e6",
   "metadata": {},
   "source": [
    "## Deep Learning (NN)"
   ]
  },
  {
   "cell_type": "code",
   "execution_count": 1,
   "id": "72e8efa9dcb77e62",
   "metadata": {
    "ExecuteTime": {
     "end_time": "2024-12-24T09:48:10.340357Z",
     "start_time": "2024-12-24T09:48:00.953991Z"
    }
   },
   "outputs": [],
   "source": [
    "from tensorflow.keras.models import Sequential\n",
    "from tensorflow.keras.layers import Dense, Input"
   ]
  },
  {
   "cell_type": "code",
   "execution_count": 74,
   "id": "3ccc6bc6ace959a3",
   "metadata": {
    "ExecuteTime": {
     "end_time": "2024-12-19T17:41:06.113065Z",
     "start_time": "2024-12-19T17:40:32.242730Z"
    }
   },
   "outputs": [
    {
     "name": "stdout",
     "output_type": "stream",
     "text": [
      "Epoch 1/5\n",
      "\u001b[1m3200/3200\u001b[0m \u001b[32m━━━━━━━━━━━━━━━━━━━━\u001b[0m\u001b[37m\u001b[0m \u001b[1m8s\u001b[0m 2ms/step - accuracy: 0.5090 - loss: 1.2756\n",
      "Epoch 2/5\n",
      "\u001b[1m3200/3200\u001b[0m \u001b[32m━━━━━━━━━━━━━━━━━━━━\u001b[0m\u001b[37m\u001b[0m \u001b[1m7s\u001b[0m 2ms/step - accuracy: 0.8911 - loss: 0.3279\n",
      "Epoch 3/5\n",
      "\u001b[1m3200/3200\u001b[0m \u001b[32m━━━━━━━━━━━━━━━━━━━━\u001b[0m\u001b[37m\u001b[0m \u001b[1m7s\u001b[0m 2ms/step - accuracy: 0.9375 - loss: 0.1886\n",
      "Epoch 4/5\n",
      "\u001b[1m3200/3200\u001b[0m \u001b[32m━━━━━━━━━━━━━━━━━━━━\u001b[0m\u001b[37m\u001b[0m \u001b[1m7s\u001b[0m 2ms/step - accuracy: 0.9556 - loss: 0.1373\n",
      "Epoch 5/5\n",
      "\u001b[1m3200/3200\u001b[0m \u001b[32m━━━━━━━━━━━━━━━━━━━━\u001b[0m\u001b[37m\u001b[0m \u001b[1m6s\u001b[0m 2ms/step - accuracy: 0.9660 - loss: 0.0977\n"
     ]
    },
    {
     "data": {
      "text/plain": [
       "<keras.src.callbacks.history.History at 0x1a5f40f8080>"
      ]
     },
     "execution_count": 74,
     "metadata": {},
     "output_type": "execute_result"
    }
   ],
   "source": [
    "model = Sequential()\n",
    "model.add(Input(shape=(X_train.shape[1],)))\n",
    "model.add(Dense(12,activation = 'relu'))\n",
    "model.add(Dense(8, activation = 'relu'))\n",
    "model.add(Dense(6, activation=\"softmax\"))\n",
    "\n",
    "model.compile(loss='sparse_categorical_crossentropy', optimizer='adam', metrics=['accuracy'])\n",
    "\n",
    "model.fit(X_train, Y_train, epochs=5, batch_size=5)"
   ]
  },
  {
   "cell_type": "code",
   "execution_count": 75,
   "id": "1bc36d08279eda73",
   "metadata": {
    "ExecuteTime": {
     "end_time": "2024-12-19T17:41:06.638921Z",
     "start_time": "2024-12-19T17:41:06.113570Z"
    }
   },
   "outputs": [
    {
     "name": "stdout",
     "output_type": "stream",
     "text": [
      "\u001b[1m125/125\u001b[0m \u001b[32m━━━━━━━━━━━━━━━━━━━━\u001b[0m\u001b[37m\u001b[0m \u001b[1m0s\u001b[0m 2ms/step - accuracy: 0.8494 - loss: 0.5292\n",
      "0.8360000252723694\n"
     ]
    }
   ],
   "source": [
    "_,accuracy = model.evaluate(X_test, Y_test)\n",
    "print(accuracy)"
   ]
  },
  {
   "cell_type": "code",
   "execution_count": 76,
   "id": "63456f2c9dde2d0c",
   "metadata": {
    "ExecuteTime": {
     "end_time": "2024-12-19T17:41:06.780024Z",
     "start_time": "2024-12-19T17:41:06.640932Z"
    }
   },
   "outputs": [
    {
     "name": "stdout",
     "output_type": "stream",
     "text": [
      "\u001b[1m1/1\u001b[0m \u001b[32m━━━━━━━━━━━━━━━━━━━━\u001b[0m\u001b[37m\u001b[0m \u001b[1m0s\u001b[0m 77ms/step\n"
     ]
    },
    {
     "data": {
      "text/plain": [
       "'sadness'"
      ]
     },
     "execution_count": 76,
     "metadata": {},
     "output_type": "execute_result"
    }
   ],
   "source": [
    "text = \"i'm bad\"\n",
    "text = preprocess(text)\n",
    "text1 = vectorizer.transform([text]).toarray()\n",
    "a = model.predict(text1)\n",
    "a = np.argmax(a, axis=1)\n",
    "label_encoder.inverse_transform(a)[0]"
   ]
  },
  {
   "cell_type": "code",
   "execution_count": 46,
   "id": "e1bc64fb75cfda91",
   "metadata": {
    "ExecuteTime": {
     "end_time": "2024-12-19T14:16:24.062839Z",
     "start_time": "2024-12-19T14:16:24.054633Z"
    }
   },
   "outputs": [],
   "source": []
  }
 ],
 "metadata": {
  "kernelspec": {
   "display_name": "py312",
   "language": "python",
   "name": "python3"
  },
  "language_info": {
   "codemirror_mode": {
    "name": "ipython",
    "version": 3
   },
   "file_extension": ".py",
   "mimetype": "text/x-python",
   "name": "python",
   "nbconvert_exporter": "python",
   "pygments_lexer": "ipython3",
   "version": "3.12.9"
  }
 },
 "nbformat": 4,
 "nbformat_minor": 5
}
